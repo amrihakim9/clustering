{
 "cells": [
  {
   "cell_type": "markdown",
   "metadata": {},
   "source": [
    "# **Model Inference**"
   ]
  },
  {
   "cell_type": "markdown",
   "metadata": {},
   "source": [
    "## Import Libraries"
   ]
  },
  {
   "cell_type": "code",
   "execution_count": 15,
   "metadata": {},
   "outputs": [],
   "source": [
    "import pandas as pd\n",
    "import numpy as np\n",
    "from sklearn.metrics import pairwise_distances\n",
    "import pickle as pkl"
   ]
  },
  {
   "cell_type": "markdown",
   "metadata": {},
   "source": [
    "Insight : Melakukan import `libraries` guna model `inference` pada `unsupervised learning` data `numerikal`."
   ]
  },
  {
   "cell_type": "markdown",
   "metadata": {},
   "source": [
    "## Load Models"
   ]
  },
  {
   "cell_type": "code",
   "execution_count": 16,
   "metadata": {},
   "outputs": [],
   "source": [
    "with open('scaler.pkl', 'rb') as file_1:\n",
    "  scaler=pkl.load(file_1)\n",
    "with open('pca.pkl', 'rb') as file_2:\n",
    "  pca=pkl.load(file_2)\n",
    "with open('kmeans.pkl', 'rb') as file_3:\n",
    "  kmeans=pkl.load(file_3)\n",
    "with open('dbscan.pkl', 'rb') as file_4:\n",
    "  dbscan=pkl.load(file_4)\n",
    "with open('best_dbscan.pkl', 'rb') as file_5:\n",
    "  best_dbscan=pkl.load(file_5)"
   ]
  },
  {
   "cell_type": "markdown",
   "metadata": {},
   "source": [
    "Insight : Melakukan `load model` menggunakan `pickle load`."
   ]
  },
  {
   "cell_type": "markdown",
   "metadata": {},
   "source": [
    "## Create New Dataframe"
   ]
  },
  {
   "cell_type": "code",
   "execution_count": 17,
   "metadata": {},
   "outputs": [
    {
     "data": {
      "text/html": [
       "<div>\n",
       "<style scoped>\n",
       "    .dataframe tbody tr th:only-of-type {\n",
       "        vertical-align: middle;\n",
       "    }\n",
       "\n",
       "    .dataframe tbody tr th {\n",
       "        vertical-align: top;\n",
       "    }\n",
       "\n",
       "    .dataframe thead th {\n",
       "        text-align: right;\n",
       "    }\n",
       "</style>\n",
       "<table border=\"1\" class=\"dataframe\">\n",
       "  <thead>\n",
       "    <tr style=\"text-align: right;\">\n",
       "      <th></th>\n",
       "      <th>CUST_ID</th>\n",
       "      <th>BALANCE</th>\n",
       "      <th>BALANCE_FREQUENCY</th>\n",
       "      <th>PURCHASES</th>\n",
       "      <th>ONEOFF_PURCHASES</th>\n",
       "      <th>INSTALLMENTS_PURCHASES</th>\n",
       "      <th>CASH_ADVANCE</th>\n",
       "      <th>PURCHASES_FREQUENCY</th>\n",
       "      <th>ONEOFF_PURCHASES_FREQUENCY</th>\n",
       "      <th>PURCHASES_INSTALLMENTS_FREQUENCY</th>\n",
       "      <th>CASH_ADVANCE_FREQUENCY</th>\n",
       "      <th>CASH_ADVANCE_TRX</th>\n",
       "      <th>PURCHASES_TRX</th>\n",
       "      <th>CREDIT_LIMIT</th>\n",
       "      <th>PAYMENTS</th>\n",
       "      <th>MINIMUM_PAYMENTS</th>\n",
       "      <th>PRC_FULL_PAYMENT</th>\n",
       "      <th>TENURE</th>\n",
       "    </tr>\n",
       "  </thead>\n",
       "  <tbody>\n",
       "    <tr>\n",
       "      <th>0</th>\n",
       "      <td>New Cust Id</td>\n",
       "      <td>655.922353</td>\n",
       "      <td>1.0</td>\n",
       "      <td>380.0</td>\n",
       "      <td>145.9</td>\n",
       "      <td>0.0</td>\n",
       "      <td>455.467534</td>\n",
       "      <td>0.25</td>\n",
       "      <td>0.25</td>\n",
       "      <td>0.0</td>\n",
       "      <td>0.545455</td>\n",
       "      <td>8</td>\n",
       "      <td>5</td>\n",
       "      <td>4377.9</td>\n",
       "      <td>689.677457</td>\n",
       "      <td>109.455422</td>\n",
       "      <td>0.0</td>\n",
       "      <td>10</td>\n",
       "    </tr>\n",
       "  </tbody>\n",
       "</table>\n",
       "</div>"
      ],
      "text/plain": [
       "       CUST_ID     BALANCE  BALANCE_FREQUENCY  PURCHASES  ONEOFF_PURCHASES  \\\n",
       "0  New Cust Id  655.922353                1.0      380.0             145.9   \n",
       "\n",
       "   INSTALLMENTS_PURCHASES  CASH_ADVANCE  PURCHASES_FREQUENCY  \\\n",
       "0                     0.0    455.467534                 0.25   \n",
       "\n",
       "   ONEOFF_PURCHASES_FREQUENCY  PURCHASES_INSTALLMENTS_FREQUENCY  \\\n",
       "0                        0.25                               0.0   \n",
       "\n",
       "   CASH_ADVANCE_FREQUENCY  CASH_ADVANCE_TRX  PURCHASES_TRX  CREDIT_LIMIT  \\\n",
       "0                0.545455                 8              5        4377.9   \n",
       "\n",
       "     PAYMENTS  MINIMUM_PAYMENTS  PRC_FULL_PAYMENT  TENURE  \n",
       "0  689.677457        109.455422               0.0      10  "
      ]
     },
     "execution_count": 17,
     "metadata": {},
     "output_type": "execute_result"
    }
   ],
   "source": [
    "# Create an instance\n",
    "\n",
    "data_inf = {\n",
    "    'CUST_ID': 'New Cust Id',\n",
    "    'BALANCE': 655.922353,\n",
    "    'BALANCE_FREQUENCY': 1.000,\n",
    "    'PURCHASES': 380.00,\n",
    "    'ONEOFF_PURCHASES': 145.90,\n",
    "    'INSTALLMENTS_PURCHASES': 0.0,\n",
    "    'CASH_ADVANCE': 455.467534,\n",
    "    'PURCHASES_FREQUENCY': 0.250000,\n",
    "    'ONEOFF_PURCHASES_FREQUENCY': 0.250000,\n",
    "    'PURCHASES_INSTALLMENTS_FREQUENCY': 0.0,\n",
    "    'CASH_ADVANCE_FREQUENCY': 0.545455,\n",
    "    'CASH_ADVANCE_TRX': 8,\n",
    "    'PURCHASES_TRX': 5,\n",
    "    'CREDIT_LIMIT': 4377.900000,\n",
    "    'PAYMENTS': 689.677457,\n",
    "    'MINIMUM_PAYMENTS': 109.455422,\n",
    "    'PRC_FULL_PAYMENT': 0.0,\n",
    "    'TENURE': 10,\n",
    "}\n",
    "\n",
    "data_inf = pd.DataFrame([data_inf])\n",
    "data_inf"
   ]
  },
  {
   "cell_type": "markdown",
   "metadata": {},
   "source": [
    "Insight : Membuat `dataframe` baru untuk bahan `prediksi model`."
   ]
  },
  {
   "cell_type": "markdown",
   "metadata": {},
   "source": [
    "## Preprocessing"
   ]
  },
  {
   "cell_type": "code",
   "execution_count": 18,
   "metadata": {},
   "outputs": [
    {
     "data": {
      "text/plain": [
       "array([[-1.35594561,  1.18374282,  0.0562152 , -0.83844355, -0.88482105]])"
      ]
     },
     "execution_count": 18,
     "metadata": {},
     "output_type": "execute_result"
    }
   ],
   "source": [
    "# Preprocessing\n",
    "\n",
    "## Drop column `CUST_ID`\n",
    "data_inf = data_inf.drop('CUST_ID', axis=1)\n",
    "\n",
    "## Feature Scaling\n",
    "data_inf_scaled = scaler.transform(data_inf)\n",
    "\n",
    "## Dimensionality reduction using PCA\n",
    "data_inf_scaled_pca = pca.transform(data_inf_scaled)\n",
    "data_inf_scaled_pca"
   ]
  },
  {
   "cell_type": "markdown",
   "metadata": {},
   "source": [
    "Insight : Melakukan `preprocessing` pada `dataframe` yang baru dibuat menggunakan `scaler` dan juga `pca` yang sudah `disimpan` sebelumnya pada file `pickle`."
   ]
  },
  {
   "cell_type": "markdown",
   "metadata": {},
   "source": [
    "## K-Means Prediction"
   ]
  },
  {
   "cell_type": "code",
   "execution_count": 19,
   "metadata": {},
   "outputs": [
    {
     "name": "stdout",
     "output_type": "stream",
     "text": [
      "[1]\n"
     ]
    }
   ],
   "source": [
    "# Cluster prediction\n",
    "kmeans_pred = kmeans.predict(data_inf_scaled_pca)\n",
    "print(kmeans_pred)"
   ]
  },
  {
   "cell_type": "markdown",
   "metadata": {},
   "source": [
    "Insight : `Prediksi` pada `K-Means` menggunakan `kmeans.predict` yang mana `kmeans` ini merupakan `model` yang suda `disimpan` sebelumnya. Hasilnya terlihat bahwa `K-Means` mempunyai `label terbaik` di `cluster 4` yaitu pada `label 1`."
   ]
  },
  {
   "cell_type": "markdown",
   "metadata": {},
   "source": [
    "## DBSCAN Prediction"
   ]
  },
  {
   "cell_type": "code",
   "execution_count": 20,
   "metadata": {},
   "outputs": [],
   "source": [
    "# Create a function to get nearest clusters\n",
    "\n",
    "def predict_cluster(model, X_new):\n",
    "    # Calculate pairwise distances between new samples and all samples in the training set\n",
    "    distances = pairwise_distances(X_new, model.components_, metric=model.metric)\n",
    "\n",
    "    # Find the index of the closest sample within eps distance\n",
    "    closest_sample_indices = np.argmin(distances, axis=1)\n",
    "\n",
    "    # Get the cluster labels of the closest samples\n",
    "    closest_sample_labels = dbscan.labels_[closest_sample_indices]\n",
    "\n",
    "    return closest_sample_labels"
   ]
  },
  {
   "cell_type": "markdown",
   "metadata": {},
   "source": [
    "Insight : Mencari `cluster terdekat` dengan menggunakan function `pairwise_distances`. `Method` pada `predict_cluster` yang dibuat guna `menghitung` `model DBSCAN` yang telah disimpan sebelumnya dan kolaborasi dengan perhitungan `distances` yang nantinya digunakan pada `prediksi label`. Maka, hasil `cluster terdekat` ini akan dilakukan `prediksi` pada `labelnya`. "
   ]
  },
  {
   "cell_type": "code",
   "execution_count": 21,
   "metadata": {},
   "outputs": [
    {
     "name": "stdout",
     "output_type": "stream",
     "text": [
      "[0]\n"
     ]
    }
   ],
   "source": [
    "# Cluster prediction\n",
    "best_dbscan_pred = predict_cluster(best_dbscan, data_inf_scaled_pca)\n",
    "\n",
    "print(best_dbscan_pred)"
   ]
  },
  {
   "cell_type": "markdown",
   "metadata": {},
   "source": [
    "Insight : Pada prediksi `DBSCAN` terbaik, dipanggil kembali `predict_cluster` untuk dilakukan prediksi label pada `DBSCAN` terbaik. Maka pada prediksi `DBSCAN` terbaik, didapatkan `label 0` yang artinya label ini mempunyai tingkat `kepadatan` yang `signifikan` pada `cluster`. Dan dapat dikatakan `label 0` ini merupakan `label terbaik` pada `DBSCAN` model. "
   ]
  }
 ],
 "metadata": {
  "kernelspec": {
   "display_name": "base",
   "language": "python",
   "name": "python3"
  },
  "language_info": {
   "codemirror_mode": {
    "name": "ipython",
    "version": 3
   },
   "file_extension": ".py",
   "mimetype": "text/x-python",
   "name": "python",
   "nbconvert_exporter": "python",
   "pygments_lexer": "ipython3",
   "version": "3.11.7"
  }
 },
 "nbformat": 4,
 "nbformat_minor": 2
}
